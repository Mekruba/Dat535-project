{
 "cells": [
  {
   "cell_type": "code",
   "execution_count": 1,
   "metadata": {},
   "outputs": [
    {
     "name": "stderr",
     "output_type": "stream",
     "text": [
      "                                                                                \r"
     ]
    },
    {
     "name": "stdout",
     "output_type": "stream",
     "text": [
      "+------+---------------+-------+-------------------------+--------------------------------+-------------------------+------------+----------+--------+---------+-------+-------+-------------+-------------+---------+----------------+\n",
      "|Mal ID|Username       |Gender |Birthday                 |Location                        |Joined                   |Days Watched|Mean Score|Watching|Completed|On Hold|Dropped|Plan to Watch|Total Entries|Rewatched|Episodes Watched|\n",
      "+------+---------------+-------+-------------------------+--------------------------------+-------------------------+------------+----------+--------+---------+-------+-------+-------------+-------------+---------+----------------+\n",
      "|1     |Xinil          |Male   |1985-03-04T00:00:00+00:00|California                      |2004-11-05T00:00:00+00:00|142.3       |7.37      |1.0     |233.0    |8.0    |93.0   |64.0         |399.0        |60.0     |8458.0          |\n",
      "|3     |Aokaado        |Male   |unknown                  |Oslo, Norway                    |2004-11-11T00:00:00+00:00|68.6        |7.34      |23.0    |137.0    |99.0   |44.0   |40.0         |343.0        |15.0     |4072.0          |\n",
      "|4     |Crystal        |Female |unknown                  |Melbourne, Australia            |2004-11-13T00:00:00+00:00|212.8       |6.68      |16.0    |636.0    |303.0  |0.0    |45.0         |1000.0       |10.0     |12781.0         |\n",
      "|9     |Arcane         |unknown|unknown                  |unknown                         |2004-12-05T00:00:00+00:00|30.0        |7.71      |5.0     |54.0     |4.0    |3.0    |0.0          |66.0         |0.0      |1817.0          |\n",
      "|18    |Mad            |unknown|unknown                  |unknown                         |2005-01-03T00:00:00+00:00|52.0        |6.27      |1.0     |114.0    |10.0   |5.0    |23.0         |153.0        |42.0     |3038.0          |\n",
      "|20    |vondur         |Male   |1988-01-25T00:00:00+00:00|Bergen, Norway                  |2005-01-05T00:00:00+00:00|73.1        |8.06      |11.0    |94.0     |11.0   |2.0    |20.0         |138.0        |7.0      |4374.0          |\n",
      "|23    |Amuro          |unknown|1988-02-22T00:00:00+00:00|Canada                          |2005-01-23T00:00:00+00:00|142.5       |7.41      |20.0    |298.0    |5.0    |19.0   |50.0         |392.0        |0.0      |8565.0          |\n",
      "|36    |Baman          |Male   |unknown                  |Land of Rain and Fjords         |2005-02-05T00:00:00+00:00|272.1       |5.9       |27.0    |1144.0   |11.0   |55.0   |338.0        |1575.0       |36.0     |16309.0         |\n",
      "|44    |beddan         |Male   |unknown                  |unknown                         |2005-02-21T00:00:00+00:00|18.6        |7.6       |0.0     |37.0     |0.0    |0.0    |0.0          |37.0         |0.0      |1083.0          |\n",
      "|47    |kei-clone      |Male   |unknown                  |31f288172a11dea9f2781a6d87e0a200|2005-03-09T00:00:00+00:00|34.5        |6.84      |15.0    |104.0    |22.0   |3.0    |19.0         |163.0        |1.0      |2054.0          |\n",
      "|53    |Ladholyman     |unknown|unknown                  |unknown                         |2005-03-19T00:00:00+00:00|11.5        |9.24      |0.0     |51.0     |0.0    |0.0    |0.0          |51.0         |0.0      |693.0           |\n",
      "|66    |Hiromi         |Male   |1990-02-09T00:00:00+00:00|Calgary, AB                     |2005-04-01T00:00:00+00:00|70.6        |7.53      |34.0    |148.0    |13.0   |6.0    |10.0         |211.0        |50.0     |4117.0          |\n",
      "|70    |Cruzle         |Male   |1983-11-09T00:00:00+00:00|unknown                         |2005-04-14T00:00:00+00:00|78.0        |7.18      |30.0    |135.0    |9.0    |8.0    |22.0         |204.0        |15.0     |4694.0          |\n",
      "|71    |Smoka          |unknown|unknown                  |unknown                         |2005-04-21T00:00:00+00:00|22.9        |8.01      |2.0     |67.0     |11.0   |0.0    |0.0          |80.0         |0.0      |1295.0          |\n",
      "|77    |Emp            |Female |unknown                  |unknown                         |2005-04-26T00:00:00+00:00|67.5        |6.38      |13.0    |297.0    |0.0    |0.0    |2.0          |312.0        |0.0      |3955.0          |\n",
      "|80    |koalatees      |unknown|1991-10-24T00:00:00+00:00|unknown                         |2005-04-27T00:00:00+00:00|12.2        |7.1       |4.0     |31.0     |0.0    |41.0   |0.0          |76.0         |0.0      |744.0           |\n",
      "|82    |Achtor         |Male   |1989-06-10T00:00:00+00:00|Paris, France                   |2005-04-29T00:00:00+00:00|47.0        |7.17      |6.0     |153.0    |36.0   |20.0   |101.0        |316.0        |0.0      |2922.0          |\n",
      "|83    |jaames         |Male   |unknown                  |Seattle, Washington             |2005-04-30T00:00:00+00:00|12.5        |8.71      |3.0     |16.0     |0.0    |0.0    |0.0          |19.0         |0.0      |745.0           |\n",
      "|90    |xich           |Female |unknown                  |unknown                         |2005-05-10T00:00:00+00:00|58.8        |8.29      |2.0     |122.0    |7.0    |53.0   |9.0          |193.0        |5.0      |3557.0          |\n",
      "|91    |marvin_9martian|Female |unknown                  |Canada                          |2005-05-10T00:00:00+00:00|36.4        |6.66      |4.0     |57.0     |4.0    |31.0   |29.0         |125.0        |1.0      |2187.0          |\n",
      "+------+---------------+-------+-------------------------+--------------------------------+-------------------------+------------+----------+--------+---------+-------+-------+-------------+-------------+---------+----------------+\n",
      "only showing top 20 rows\n",
      "\n"
     ]
    },
    {
     "name": "stderr",
     "output_type": "stream",
     "text": [
      "                                                                                \r"
     ]
    }
   ],
   "source": [
    "import re\n",
    "from pyspark.sql import SparkSession\n",
    "from pyspark.sql import Row\n",
    "\n",
    "# Initialize SparkSession\n",
    "spark = SparkSession.builder \\\n",
    "    .appName(\"SaveRDDAsDataFrameCSV\") \\\n",
    "    .getOrCreate()\n",
    "\n",
    "# Load the CSV file as an RDD\n",
    "filepath = \"project/users-details-2023.csv\"\n",
    "anime_rdd = spark.sparkContext.textFile(filepath)\n",
    "\n",
    "# Remove header\n",
    "header = anime_rdd.first()\n",
    "data_rdd = anime_rdd.filter(lambda line: line != header)\n",
    "\n",
    "def fill_empty_fields(line):\n",
    "        pattern = r',(?=(?:[^\"]*\"[^\"]*\")*[^\"]*$)'\n",
    "        fields = re.split(pattern, line.strip())\n",
    "        # Clean up quotes and replace empty fields with \"unknown\"\n",
    "        fields = [\n",
    "                field.strip().replace('\"', '') if field.strip() != \"\" else \"unknown\" \n",
    "                for field in fields\n",
    "        ]\n",
    "        return Row(*fields)\n",
    "\n",
    "# Apply the function to each line and convert to Rows\n",
    "filled_rdd = data_rdd.map(fill_empty_fields)\n",
    "\n",
    "\n",
    "# Define the schema for the DataFrame based on your CSV header\n",
    "schema = [\"Mal ID\", \"Username\", \"Gender\", \"Birthday\", \"Location\", \"Joined\", \n",
    "          \"Days Watched\", \"Mean Score\", \"Watching\", \"Completed\", \n",
    "          \"On Hold\", \"Dropped\", \"Plan to Watch\", \"Total Entries\", \n",
    "          \"Rewatched\", \"Episodes Watched\"]\n",
    "\n",
    "# Create a DataFrame from the filled RDD\n",
    "anime_df = spark.createDataFrame(filled_rdd, schema=schema)\n",
    "anime_df.show(truncate= False)\n",
    "\n",
    "# Define the output path (as a directory, no .csv extension)\n",
    "output_path = \"project/users-details-2023-filled\"\n",
    "\n",
    "# Save the DataFrame as a CSV file with overwrite mode\n",
    "anime_df.write.mode(\"overwrite\").csv(output_path, header=True)\n",
    "\n",
    "\n",
    "spark.stop()\n",
    "\n",
    "\n"
   ]
  },
  {
   "cell_type": "code",
   "execution_count": 4,
   "metadata": {},
   "outputs": [
    {
     "name": "stderr",
     "output_type": "stream",
     "text": [
      "                                                                                \r"
     ]
    },
    {
     "name": "stdout",
     "output_type": "stream",
     "text": [
      "+------+--------------+-------+-------------------------+-----------------------+-------------------------+------------+----------+--------+---------+-------+-------+-------------+-------------+---------+----------------+\n",
      "|Mal ID|Username      |Gender |Birthday                 |Location               |Joined                   |Days Watched|Mean Score|Watching|Completed|On Hold|Dropped|Plan to Watch|Total Entries|Rewatched|Episodes Watched|\n",
      "+------+--------------+-------+-------------------------+-----------------------+-------------------------+------------+----------+--------+---------+-------+-------+-------------+-------------+---------+----------------+\n",
      "|411534|RazielD       |Male   |unknown                  |unknown                |2010-11-23T00:00:00+00:00|19.0        |7.5       |2.0     |12.0     |0.0    |0.0    |0.0          |14.0         |10.0     |1117.0          |\n",
      "|411535|FVAnime       |unknown|unknown                  |unknown                |2010-11-23T00:00:00+00:00|10.7        |0.0       |4.0     |36.0     |9.0    |5.0    |0.0          |54.0         |0.0      |615.0           |\n",
      "|411536|Racoonaz      |unknown|unknown                  |unknown                |2010-11-23T00:00:00+00:00|0.0         |0.0       |1.0     |0.0      |0.0    |0.0    |0.0          |1.0          |0.0      |0.0             |\n",
      "|411537|helelima      |Female |1994-09-01T00:00:00+00:00|Brazil                 |2010-11-23T00:00:00+00:00|1.1         |8.5       |1.0     |1.0      |0.0    |0.0    |0.0          |2.0          |0.0      |66.0            |\n",
      "|411538|locomojomojo  |unknown|unknown                  |unknown                |2010-11-23T00:00:00+00:00|62.1        |0.0       |4.0     |169.0    |1.0    |0.0    |1.0          |175.0        |0.0      |3610.0          |\n",
      "|411539|IkamaruKitana |unknown|unknown                  |unknown                |2010-11-23T00:00:00+00:00|0.0         |0.0       |0.0     |0.0      |0.0    |0.0    |0.0          |0.0          |0.0      |0.0             |\n",
      "|411540|THRiLL_KiLL   |unknown|unknown                  |unknown                |2010-11-23T00:00:00+00:00|91.1        |7.85      |18.0    |116.0    |9.0    |3.0    |16.0         |162.0        |0.0      |5433.0          |\n",
      "|411541|SaviorVictis  |Male   |1989-06-24T00:00:00+00:00|Usa, Ohio              |2010-11-23T00:00:00+00:00|5.7         |7.95      |1.0     |20.0     |0.0    |2.0    |0.0          |23.0         |62.0     |255.0           |\n",
      "|411542|Neuroticdemise|Male   |1995-07-08T00:00:00+00:00|unknown                |2010-11-23T00:00:00+00:00|103.2       |8.16      |23.0    |220.0    |12.0   |5.0    |91.0         |351.0        |14.0     |7132.0          |\n",
      "|411543|forgive_forget|unknown|unknown                  |unknown                |2010-11-23T00:00:00+00:00|0.0         |0.0       |0.0     |0.0      |0.0    |0.0    |0.0          |0.0          |0.0      |0.0             |\n",
      "|411544|LiquidTT      |Male   |1992-01-03T00:00:00+00:00|Vladivostok, Russia    |2010-11-23T00:00:00+00:00|6.9         |7.38      |1.0     |30.0     |0.0    |2.0    |4.0          |37.0         |2.0      |389.0           |\n",
      "|411545|Jixxor        |Male   |1995-07-27T00:00:00+00:00|Dortmund               |2010-11-23T00:00:00+00:00|95.3        |7.23      |10.0    |214.0    |0.0    |6.0    |35.0         |265.0        |16.0     |5706.0          |\n",
      "|411546|BiBaButz      |unknown|1974-12-14T00:00:00+00:00|Internet               |2010-11-23T00:00:00+00:00|60.9        |7.99      |14.0    |90.0     |7.0    |3.0    |0.0          |114.0        |17.0     |3625.0          |\n",
      "|411547|leonluthor    |Male   |1991-09-25T00:00:00+00:00|Duque de Caxias, Brasil|2010-11-23T00:00:00+00:00|15.8        |8.64      |15.0    |27.0     |0.0    |0.0    |9.0          |51.0         |0.0      |945.0           |\n",
      "|411548|tryy          |unknown|unknown                  |unknown                |2010-11-23T00:00:00+00:00|0.0         |0.0       |0.0     |0.0      |0.0    |0.0    |0.0          |0.0          |0.0      |0.0             |\n",
      "|411549|Layrabk       |unknown|unknown                  |unknown                |2010-11-23T00:00:00+00:00|19.0        |8.47      |4.0     |14.0     |0.0    |0.0    |0.0          |18.0         |0.0      |1172.0          |\n",
      "|411550|rabruslik     |unknown|unknown                  |unknown                |2010-11-23T00:00:00+00:00|25.7        |8.89      |0.0     |82.0     |0.0    |0.0    |0.0          |82.0         |0.0      |1451.0          |\n",
      "|411551|ASprek        |unknown|unknown                  |unknown                |2010-11-23T00:00:00+00:00|0.0         |0.0       |0.0     |0.0      |0.0    |0.0    |0.0          |0.0          |0.0      |0.0             |\n",
      "|411552|ssxon         |Female |1992-06-12T00:00:00+00:00|Portugal               |2010-11-23T00:00:00+00:00|63.8        |0.0       |300.0   |315.0    |5.0    |6.0    |1287.0       |1913.0       |0.0      |3707.0          |\n",
      "|411553|Jessini       |unknown|unknown                  |unknown                |2010-11-23T00:00:00+00:00|0.0         |0.0       |0.0     |0.0      |0.0    |0.0    |0.0          |0.0          |0.0      |0.0             |\n",
      "+------+--------------+-------+-------------------------+-----------------------+-------------------------+------------+----------+--------+---------+-------+-------+-------------+-------------+---------+----------------+\n",
      "only showing top 20 rows\n",
      "\n"
     ]
    }
   ],
   "source": [
    "from pyspark.sql import SparkSession\n",
    "\n",
    "spark = SparkSession.builder.appName(\"SaveRDDAsDataFrameCSV\").getOrCreate()\n",
    "\n",
    "filepath = \"project/users-details-2023-filled\"\n",
    "\n",
    "df = spark.read.csv(filepath, header = True)\n",
    "\n",
    "df.show(truncate=False)\n",
    "\n",
    "spark.stop()"
   ]
  },
  {
   "cell_type": "code",
   "execution_count": 5,
   "metadata": {},
   "outputs": [
    {
     "ename": "NameError",
     "evalue": "name 'SparkContext' is not defined",
     "output_type": "error",
     "traceback": [
      "\u001b[0;31m---------------------------------------------------------------------------\u001b[0m",
      "\u001b[0;31mNameError\u001b[0m                                 Traceback (most recent call last)",
      "Cell \u001b[0;32mIn[5], line 1\u001b[0m\n\u001b[0;32m----> 1\u001b[0m \u001b[38;5;28;01mif\u001b[39;00m \u001b[43mSparkContext\u001b[49m\u001b[38;5;241m.\u001b[39m_active_spark_context:\n\u001b[1;32m      2\u001b[0m     SparkContext\u001b[38;5;241m.\u001b[39m_active_spark_context\u001b[38;5;241m.\u001b[39mstop()\n",
      "\u001b[0;31mNameError\u001b[0m: name 'SparkContext' is not defined"
     ]
    }
   ],
   "source": [
    "if SparkContext._active_spark_context:\n",
    "    SparkContext._active_spark_context.stop()"
   ]
  }
 ],
 "metadata": {
  "kernelspec": {
   "display_name": "dat535project",
   "language": "python",
   "name": "python3"
  },
  "language_info": {
   "codemirror_mode": {
    "name": "ipython",
    "version": 3
   },
   "file_extension": ".py",
   "mimetype": "text/x-python",
   "name": "python",
   "nbconvert_exporter": "python",
   "pygments_lexer": "ipython3",
   "version": "3.8.10"
  }
 },
 "nbformat": 4,
 "nbformat_minor": 2
}
